{
 "cells": [
  {
   "cell_type": "code",
   "execution_count": 1,
   "metadata": {},
   "outputs": [],
   "source": [
    "import yfinance as yf\n",
    "import matplotlib.pyplot as plt\n",
    "import pandas as pd\n",
    "import mplfinance as mpf\n",
    "import numpy as np\n",
    "import os\n",
    "\n",
    "class backtester:\n",
    "    # Initialisation de la classe\n",
    "    def __init__(self, strategy):\n",
    "        self.strategy = strategy\n",
    "        self.positions = []\n",
    "    \n",
    "    # Récupération des données et application, à chaque titre, de la stratégie fournie par l'utilisateur\n",
    "    def compute(self, symbols, start_date, end_date):\n",
    "        self.df = {}\n",
    "        for symbol in symbols:\n",
    "            # Récupération des données et stockage local des données\n",
    "            # Si le fichier existe déjà\n",
    "            file_name = f\"{symbol, start_date, end_date}_data.csv\"\n",
    "            if os.path.exists(file_name):\n",
    "                data = pd.read_csv(file_name, index_col=0)\n",
    "                print(f\"Données de {symbol} chargées à partir du fichier : {file_name}\")\n",
    "            else:\n",
    "                # Récupération des données si elles ne sont pas déjà stockées localement\n",
    "                data = yf.download(symbol, start=start_date, end=end_date)\n",
    "                data.to_csv(file_name)\n",
    "                print(f\"Données de {symbol} téléchargées et sauvegardées localement dans le fichier : {file_name}\")\n",
    "            self.df[symbol] = pd.DataFrame(data)\n",
    "            # Calcul des résultats pour la stratégie\n",
    "            position = self.strategy(self.df[symbol])\n",
    "            self.df[symbol]['position'] = position\n",
    "            self.positions.append((symbol, position))\n",
    "            #print(self.df[symbol])\n",
    "        return self.positions\n",
    "\n",
    "# Exemple de stratégie\n",
    "def simple_strategy(data):\n",
    "    # Exemple de stratégie simple : achat lorsque la moyenne mobile sur 50 jours est supérieure à la moyenne mobile sur 200 jours, et vente dans le cas contraire\n",
    "    data['50_MA'] = data['Close'].rolling(window=50).mean()\n",
    "    data['200_MA'] = data['Close'].rolling(window=200).mean()\n",
    "    data['Position'] = 0\n",
    "    data.loc[data['50_MA'] > data['200_MA'], 'Position'] = 1  # Achat\n",
    "    data.loc[data['50_MA'] < data['200_MA'], 'Position'] = -1  # Vente\n",
    "    return data['Position']\n",
    "\n",
    "# Exemple d'utilisation du backtester avec la stratégie simple\n",
    "backtester = backtester(strategy=simple_strategy)\n",
    "backtester.compute([\"MSFT\", \"AAPL\"], \"2021-01-01\",\"2023-12-31\")\n"
   ]
  }
 ],
 "metadata": {
  "language_info": {
   "name": "python"
  }
 },
 "nbformat": 4,
 "nbformat_minor": 2
}
